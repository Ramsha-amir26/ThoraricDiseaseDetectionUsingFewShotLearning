{
 "cells": [
  {
   "cell_type": "code",
   "execution_count": 1,
   "id": "1ab091c6-85a6-48b3-bd78-417a6cdadecf",
   "metadata": {},
   "outputs": [],
   "source": [
    "import pandas as pd\n",
    "import os\n",
    "import shutil"
   ]
  },
  {
   "cell_type": "code",
   "execution_count": 2,
   "id": "fbdad3c0-2496-4753-b5b0-21e2b03a5a07",
   "metadata": {},
   "outputs": [],
   "source": [
    "df = pd.read_csv('sample_labels.csv') 
    "\n",
    "df_pa = df[df['View Position'] == 'PA']\n",
    "\n",
    "# Function to create subdirectories and copy 30 images for each disease\n",
    "def create_subdirectories_and_copy_images(df, image_folder, output_folder, images_per_class=30):\n",
    "    # Create the output folder if it doesn't exist\n",
    "    if not os.path.exists(output_folder):\n",
    "        os.makedirs(output_folder)\n",
    "\n",
    "    # Process each unique disease label\n",
    "    for disease in df['Finding Labels'].unique():\n",
    "        disease_df = df[df['Finding Labels'].str.contains(disease)]\n",
    "        \n",
    "        # Limit to 30 images per disease\n",
    "        limited_df = disease_df.head(images_per_class)\n",
    "\n",
    "        # Create a subdirectory for the disease\n",
    "        disease_folder = os.path.join(output_folder, disease.replace('|', '_'))\n",
    "        if not os.path.exists(disease_folder):\n",
    "            os.makedirs(disease_folder)\n",
    "\n",
    "        # Copy images to the subdirectory\n",
    "        for _, row in limited_df.iterrows():\n",
    "            image_path = os.path.join(image_folder, row['Image Index'])\n",
    "            if os.path.exists(image_path):\n",
    "                shutil.copy(image_path, disease_folder)\n",
    "\n",
    "\n",
    "image_folder = 'E:/National College of Ireland/Semester 3/Thesis/Research Thesis/data/images' \n",
    "output_folder = 'E:/National College of Ireland/Semester 3/Thesis/XrayImages'  \n",
    "\n",
    "\n",
    "create_subdirectories_and_copy_images(df_pa, image_folder, output_folder)"
   ]
  }
 ],
 "metadata": {
  "kernelspec": {
   "display_name": "Python 3 (ipykernel)",
   "language": "python",
   "name": "python3"
  },
  "language_info": {
   "codemirror_mode": {
    "name": "ipython",
    "version": 3
   },
   "file_extension": ".py",
   "mimetype": "text/x-python",
   "name": "python",
   "nbconvert_exporter": "python",
   "pygments_lexer": "ipython3",
   "version": "3.11.5"
  }
 },
 "nbformat": 4,
 "nbformat_minor": 5
}
